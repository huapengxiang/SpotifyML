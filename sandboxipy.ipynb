{
 "cells": [
  {
   "cell_type": "code",
   "execution_count": 3,
   "metadata": {},
   "outputs": [],
   "source": [
    "import spotipy\n",
    "import spotipy.util as util"
   ]
  },
  {
   "cell_type": "code",
   "execution_count": 4,
   "metadata": {},
   "outputs": [
    {
     "name": "stdout",
     "output_type": "stream",
     "text": [
      "\n",
      "\n",
      "            User authentication requires interaction with your\n",
      "            web browser. Once you enter your credentials and\n",
      "            give authorization, you will be redirected to\n",
      "            a url.  Paste that url you were directed to to\n",
      "            complete the authorization.\n",
      "\n",
      "        \n",
      "Opened https://accounts.spotify.com/authorize?client_id=372f6b1b1fc049f5b38342929119bbc8&response_type=code&redirect_uri=http%3A%2F%2Fgoogle.com%2F in your browser\n",
      "\n",
      "\n",
      "Enter the URL you were redirected to: https://www.google.com/?code=AQDGKO8BIBYgWRd4aD-6KMW6pX52h4iJ41-HIEhbWWBVdxNI7Ev77tg3GAR9wVFABatN0WbJ1h9xCfawfm4WCqvEhh_LAXRUAtZO24aTqsSi4-WceSkwU7X47MN0CmgyIQiI9Vb6YrvnEK7AlViGuecMp6viXkVonc7HSygaTSRezbw2hwNIp8ol\n",
      "\n",
      "\n"
     ]
    },
    {
     "data": {
      "text/plain": [
       "'BQCIRP4qyHWpm2_bAfVx9XvgNy0kdyV6Zfau9x2--QFV5MKOPr606Qe7w-Gh-h2ArcKvRvtTrZGXVAj_JgL-aWhE6FHBJqn0Q9g2Rs9vDCKGZ3pkxY3ZaILgA_o2XOy-QQ4nKJMNWFosSaOk0ix6tZo7Ds9rAg-b_AfJ'"
      ]
     },
     "execution_count": 4,
     "metadata": {},
     "output_type": "execute_result"
    }
   ],
   "source": [
    "util.prompt_for_user_token(username='oe23o78kqf3j2z6f6lbxlkctv',\n",
    "                   client_id='372f6b1b1fc049f5b38342929119bbc8',\n",
    "               client_secret='3eb77f1049c94727b3ca7b5929dc81e5',\n",
    "                   redirect_uri='http://google.com/')"
   ]
  },
  {
   "cell_type": "code",
   "execution_count": 5,
   "metadata": {},
   "outputs": [],
   "source": [
    "spotify = spotipy.Spotify()"
   ]
  },
  {
   "cell_type": "code",
   "execution_count": 9,
   "metadata": {},
   "outputs": [],
   "source": [
    "# spotify.search(q='spotify:track:6rqhFgbbKwnb9MLmUQDhG6', type='track')"
   ]
  },
  {
   "cell_type": "code",
   "execution_count": 10,
   "metadata": {},
   "outputs": [],
   "source": [
    "def get_artist(name):\n",
    "    results = sp.search(q='artist:' + name, type='artist')\n",
    "    items = results['artists']['items']\n",
    "    if len(items) > 0:\n",
    "        return items[0]\n",
    "    else:\n",
    "        return None"
   ]
  },
  {
   "cell_type": "code",
   "execution_count": 12,
   "metadata": {},
   "outputs": [
    {
     "ename": "SyntaxError",
     "evalue": "Missing parentheses in call to 'print'. Did you mean print(print track['name'], '-', track['artists'][0]['name'])? (<ipython-input-12-5ce6e76b3b8b>, line 5)",
     "output_type": "error",
     "traceback": [
      "\u001b[0;36m  File \u001b[0;32m\"<ipython-input-12-5ce6e76b3b8b>\"\u001b[0;36m, line \u001b[0;32m5\u001b[0m\n\u001b[0;31m    print track['name'], '-', track['artists'][0]['name']\u001b[0m\n\u001b[0m              ^\u001b[0m\n\u001b[0;31mSyntaxError\u001b[0m\u001b[0;31m:\u001b[0m Missing parentheses in call to 'print'. Did you mean print(print track['name'], '-', track['artists'][0]['name'])?\n"
     ]
    }
   ],
   "source": [
    "def show_recommendations_for_artist(artist):\n",
    "    albums = []\n",
    "    results = sp.recommendations(seed_artists = [artist['id']])\n",
    "    for track in results['tracks']:\n",
    "        print track['name'], '-', track['artists'][0]['name']"
   ]
  },
  {
   "cell_type": "code",
   "execution_count": 13,
   "metadata": {},
   "outputs": [
    {
     "ename": "SyntaxError",
     "evalue": "Missing parentheses in call to 'print'. Did you mean print(print \"Can't find that artist\", name)? (<ipython-input-13-e0f9b86450d8>, line 11)",
     "output_type": "error",
     "traceback": [
      "\u001b[0;36m  File \u001b[0;32m\"<ipython-input-13-e0f9b86450d8>\"\u001b[0;36m, line \u001b[0;32m11\u001b[0m\n\u001b[0;31m    print \"Can't find that artist\", name\u001b[0m\n\u001b[0m                                 ^\u001b[0m\n\u001b[0;31mSyntaxError\u001b[0m\u001b[0;31m:\u001b[0m Missing parentheses in call to 'print'. Did you mean print(print \"Can't find that artist\", name)?\n"
     ]
    }
   ],
   "source": [
    "\n",
    "if __name__ == '__main__':\n",
    "    if len(sys.argv) < 2:\n",
    "        print(('Usage: {0} artist name'.format(sys.argv[0])))\n",
    "    else:\n",
    "        name = ' '.join(sys.argv[1:])\n",
    "        artist = get_artist(name)\n",
    "        if artist:\n",
    "            show_recommendations_for_artist(artist)\n",
    "        else:\n",
    "            print \"Can't find that artist\", name"
   ]
  },
  {
   "cell_type": "code",
   "execution_count": null,
   "metadata": {},
   "outputs": [],
   "source": []
  }
 ],
 "metadata": {
  "kernelspec": {
   "display_name": "Python 3",
   "language": "python",
   "name": "python3"
  },
  "language_info": {
   "codemirror_mode": {
    "name": "ipython",
    "version": 3
   },
   "file_extension": ".py",
   "mimetype": "text/x-python",
   "name": "python",
   "nbconvert_exporter": "python",
   "pygments_lexer": "ipython3",
   "version": "3.6.4"
  }
 },
 "nbformat": 4,
 "nbformat_minor": 2
}

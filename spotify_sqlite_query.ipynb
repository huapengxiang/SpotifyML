{
 "cells": [
  {
   "cell_type": "code",
   "execution_count": 19,
   "metadata": {},
   "outputs": [],
   "source": [
    "import sqlalchemy\n",
    "from sqlalchemy.ext.automap import automap_base\n",
    "from sqlalchemy.orm import Session\n",
    "from sqlalchemy import create_engine, func, inspect\n",
    "import numpy as np"
   ]
  },
  {
   "cell_type": "code",
   "execution_count": 2,
   "metadata": {},
   "outputs": [],
   "source": [
    "# Create engine using the `spotifydb.sqlite` database file\n",
    "engine = create_engine(\"sqlite:///db/spotifydb.sqlite\")"
   ]
  },
  {
   "cell_type": "code",
   "execution_count": 3,
   "metadata": {},
   "outputs": [],
   "source": [
    "# Declare a Base using `automap_base()`\n",
    "Base = automap_base()"
   ]
  },
  {
   "cell_type": "code",
   "execution_count": 4,
   "metadata": {},
   "outputs": [],
   "source": [
    "# Use the Base class to reflect the database tables\n",
    "Base.prepare(engine, reflect=True)"
   ]
  },
  {
   "cell_type": "code",
   "execution_count": 20,
   "metadata": {},
   "outputs": [],
   "source": [
    "# Create the inspector and connect it to the engine\n",
    "inspector = inspect(engine)"
   ]
  },
  {
   "cell_type": "code",
   "execution_count": 21,
   "metadata": {},
   "outputs": [
    {
     "data": {
      "text/plain": [
       "['features', 'playlist']"
      ]
     },
     "execution_count": 21,
     "metadata": {},
     "output_type": "execute_result"
    }
   ],
   "source": [
    "# Collect the names of tables within the database\n",
    "inspector.get_table_names()"
   ]
  },
  {
   "cell_type": "code",
   "execution_count": 5,
   "metadata": {},
   "outputs": [
    {
     "data": {
      "text/plain": [
       "['features', 'playlist']"
      ]
     },
     "execution_count": 5,
     "metadata": {},
     "output_type": "execute_result"
    }
   ],
   "source": [
    "Base.classes.keys()"
   ]
  },
  {
   "cell_type": "code",
   "execution_count": 6,
   "metadata": {},
   "outputs": [],
   "source": [
    "Playlist = Base.classes.playlist"
   ]
  },
  {
   "cell_type": "code",
   "execution_count": 7,
   "metadata": {},
   "outputs": [],
   "source": [
    "session = Session(engine)"
   ]
  },
  {
   "cell_type": "code",
   "execution_count": 10,
   "metadata": {
    "scrolled": true
   },
   "outputs": [
    {
     "name": "stdout",
     "output_type": "stream",
     "text": [
      "('The Bluest Blues (feat. George Harrison)', '3d5e9kJDkgc7Jum8d8xtrl')\n",
      "('Bird of Paradise', '0X7RPlCMbifRgyg1RpsR0K')\n",
      "('The Thrill Is Gone', '1xW9HHRQe8MMGF8SBNgkBY')\n",
      "('Times Makes Two', '5LJFs3O1BFipvKh2wZHNMs')\n",
      "('Riding the Blues', '6r8w9NhDqcMY3l8SicsaDt')\n"
     ]
    }
   ],
   "source": [
    "for row in session.query(Playlist.track, Playlist.id).all():\n",
    "    print(row)"
   ]
  },
  {
   "cell_type": "code",
   "execution_count": 23,
   "metadata": {},
   "outputs": [
    {
     "name": "stdout",
     "output_type": "stream",
     "text": [
      "id\n",
      "track\n",
      "acousticness\n",
      "danceability\n",
      "duration_ms\n",
      "energy\n",
      "instrumentalness\n",
      "key\n",
      "liveness\n",
      "loudness\n",
      "mode\n",
      "speechiness\n",
      "tempo\n",
      "valence\n",
      "ratings\n"
     ]
    }
   ],
   "source": [
    "# Using the inspector to print the column names within the 'playlist' table and its types\n",
    "columns = inspector.get_columns('playlist')\n",
    "for column in columns:\n",
    "    print(column['name'])"
   ]
  },
  {
   "cell_type": "code",
   "execution_count": 14,
   "metadata": {},
   "outputs": [
    {
     "name": "stdout",
     "output_type": "stream",
     "text": [
      "['The Bluest Blues (feat. George Harrison)', '3d5e9kJDkgc7Jum8d8xtrl', 'Bird of Paradise', '0X7RPlCMbifRgyg1RpsR0K', 'The Thrill Is Gone', '1xW9HHRQe8MMGF8SBNgkBY', 'Times Makes Two', '5LJFs3O1BFipvKh2wZHNMs', 'Riding the Blues', '6r8w9NhDqcMY3l8SicsaDt']\n"
     ]
    }
   ],
   "source": [
    "songs = session.query(Playlist.track, Playlist.id).all()\n",
    "all_songs = list(np.ravel(songs))\n",
    "print(all_songs)"
   ]
  },
  {
   "cell_type": "code",
   "execution_count": 16,
   "metadata": {},
   "outputs": [
    {
     "name": "stdout",
     "output_type": "stream",
     "text": [
      "[{'Track': <sqlalchemy.orm.attributes.InstrumentedAttribute object at 0x10737f9e8>, 'id': <sqlalchemy.orm.attributes.InstrumentedAttribute object at 0x10737f8e0>}, {'Track': <sqlalchemy.orm.attributes.InstrumentedAttribute object at 0x10737f9e8>, 'id': <sqlalchemy.orm.attributes.InstrumentedAttribute object at 0x10737f8e0>}, {'Track': <sqlalchemy.orm.attributes.InstrumentedAttribute object at 0x10737f9e8>, 'id': <sqlalchemy.orm.attributes.InstrumentedAttribute object at 0x10737f8e0>}, {'Track': <sqlalchemy.orm.attributes.InstrumentedAttribute object at 0x10737f9e8>, 'id': <sqlalchemy.orm.attributes.InstrumentedAttribute object at 0x10737f8e0>}, {'Track': <sqlalchemy.orm.attributes.InstrumentedAttribute object at 0x10737f9e8>, 'id': <sqlalchemy.orm.attributes.InstrumentedAttribute object at 0x10737f8e0>}]\n"
     ]
    }
   ],
   "source": [
    "all_songs = []\n",
    "for song in songs:\n",
    "    song_dict = {}\n",
    "    song_dict['Track'] = Playlist.track\n",
    "    song_dict['id'] = Playlist.id\n",
    "    all_songs.append(song_dict)\n",
    "    \n",
    "print(all_songs)"
   ]
  },
  {
   "cell_type": "code",
   "execution_count": 24,
   "metadata": {},
   "outputs": [
    {
     "name": "stdout",
     "output_type": "stream",
     "text": [
      "{'The Bluest Blues (feat. George Harrison)': '3d5e9kJDkgc7Jum8d8xtrl', 'Bird of Paradise': '0X7RPlCMbifRgyg1RpsR0K', 'The Thrill Is Gone': '1xW9HHRQe8MMGF8SBNgkBY', 'Times Makes Two': '5LJFs3O1BFipvKh2wZHNMs', 'Riding the Blues': '6r8w9NhDqcMY3l8SicsaDt'}\n"
     ]
    }
   ],
   "source": [
    "songs = session.query(Playlist.track, Playlist.id).all()\n",
    "results = dict(songs)\n",
    "print(results)"
   ]
  },
  {
   "cell_type": "code",
   "execution_count": null,
   "metadata": {},
   "outputs": [],
   "source": []
  }
 ],
 "metadata": {
  "kernelspec": {
   "display_name": "Python 3",
   "language": "python",
   "name": "python3"
  },
  "language_info": {
   "codemirror_mode": {
    "name": "ipython",
    "version": 3
   },
   "file_extension": ".py",
   "mimetype": "text/x-python",
   "name": "python",
   "nbconvert_exporter": "python",
   "pygments_lexer": "ipython3",
   "version": "3.6.4"
  }
 },
 "nbformat": 4,
 "nbformat_minor": 2
}

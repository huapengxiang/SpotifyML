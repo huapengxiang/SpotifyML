{
 "cells": [
  {
   "cell_type": "code",
   "execution_count": 41,
   "metadata": {},
   "outputs": [],
   "source": [
    "import os\n",
    "import pandas as pd\n",
    "import glob"
   ]
  },
  {
   "cell_type": "code",
   "execution_count": 74,
   "metadata": {},
   "outputs": [],
   "source": [
    "path = \"/Users/Weinreich/Desktop/SpotifyML/songs_data/\""
   ]
  },
  {
   "cell_type": "code",
   "execution_count": 75,
   "metadata": {},
   "outputs": [
    {
     "data": {
      "text/plain": [
       "'/Users/Weinreich/Desktop/SpotifyML/songs_data/'"
      ]
     },
     "execution_count": 75,
     "metadata": {},
     "output_type": "execute_result"
    }
   ],
   "source": [
    "path"
   ]
  },
  {
   "cell_type": "code",
   "execution_count": 76,
   "metadata": {},
   "outputs": [],
   "source": [
    "all_files = glob.glob(path + \"/spotify*.csv\")"
   ]
  },
  {
   "cell_type": "code",
   "execution_count": 77,
   "metadata": {},
   "outputs": [
    {
     "data": {
      "text/plain": [
       "['/Users/Weinreich/Desktop/SpotifyML/songs_data/spotify_allout_90s.csv',\n",
       " '/Users/Weinreich/Desktop/SpotifyML/songs_data/spotify_acoustic_hits.csv',\n",
       " '/Users/Weinreich/Desktop/SpotifyML/songs_data/spotify_good_vibes.csv',\n",
       " '/Users/Weinreich/Desktop/SpotifyML/songs_data/spotify_songs_to_sing_in_the_shower.csv',\n",
       " '/Users/Weinreich/Desktop/SpotifyML/songs_data/spotify_top_hits.csv',\n",
       " '/Users/Weinreich/Desktop/SpotifyML/songs_data/spotify_teen_party.csv',\n",
       " '/Users/Weinreich/Desktop/SpotifyML/songs_data/spotify_reggae_classics.csv',\n",
       " '/Users/Weinreich/Desktop/SpotifyML/songs_data/spotify_dance_party.csv',\n",
       " '/Users/Weinreich/Desktop/SpotifyML/songs_data/spotify_mint_dance.csv',\n",
       " '/Users/Weinreich/Desktop/SpotifyML/songs_data/spotify_women_of_pop.csv',\n",
       " '/Users/Weinreich/Desktop/SpotifyML/songs_data/spotify_TGIF.csv',\n",
       " '/Users/Weinreich/Desktop/SpotifyML/songs_data/spotify_allout_80s.csv',\n",
       " '/Users/Weinreich/Desktop/SpotifyML/songs_data/spotify_beach_vibes.csv',\n",
       " '/Users/Weinreich/Desktop/SpotifyML/songs_data/spotify_throwback_jams.csv',\n",
       " '/Users/Weinreich/Desktop/SpotifyML/songs_data/spotify_80s_rock_anthems.csv',\n",
       " '/Users/Weinreich/Desktop/SpotifyML/songs_data/spotify_megahit_mix.csv',\n",
       " '/Users/Weinreich/Desktop/SpotifyML/songs_data/spotify_dance_rewind.csv',\n",
       " '/Users/Weinreich/Desktop/SpotifyML/songs_data/spotify_90s_rock_anthems.csv',\n",
       " '/Users/Weinreich/Desktop/SpotifyML/songs_data/spotify_pop_rising.csv',\n",
       " '/Users/Weinreich/Desktop/SpotifyML/songs_data/spotify_allout_00s.csv',\n",
       " '/Users/Weinreich/Desktop/SpotifyML/songs_data/spotify_beast_mode.csv',\n",
       " '/Users/Weinreich/Desktop/SpotifyML/songs_data/spotify_dance_pop.csv',\n",
       " '/Users/Weinreich/Desktop/SpotifyML/songs_data/spotify_allout_60s.csv',\n",
       " '/Users/Weinreich/Desktop/SpotifyML/songs_data/spotify_70s_rock_anthems.csv',\n",
       " '/Users/Weinreich/Desktop/SpotifyML/songs_data/spotify_60s_anthem.csv',\n",
       " '/Users/Weinreich/Desktop/SpotifyML/songs_data/spotify_gold_school.csv',\n",
       " '/Users/Weinreich/Desktop/SpotifyML/songs_data/spotify_one_love.csv',\n",
       " '/Users/Weinreich/Desktop/SpotifyML/songs_data/spotify_hit_rewind.csv',\n",
       " '/Users/Weinreich/Desktop/SpotifyML/songs_data/spotify_allout_10s.csv',\n",
       " '/Users/Weinreich/Desktop/SpotifyML/songs_data/spotify_happy_hits.csv',\n",
       " '/Users/Weinreich/Desktop/SpotifyML/songs_data/spotify_hot_rythmic.csv',\n",
       " '/Users/Weinreich/Desktop/SpotifyML/songs_data/spotify_90s_hiphop.csv',\n",
       " '/Users/Weinreich/Desktop/SpotifyML/songs_data/spotify_allout_70s.csv',\n",
       " '/Users/Weinreich/Desktop/SpotifyML/songs_data/spotify_get_turnt.csv']"
      ]
     },
     "execution_count": 77,
     "metadata": {},
     "output_type": "execute_result"
    }
   ],
   "source": [
    "all_files"
   ]
  },
  {
   "cell_type": "code",
   "execution_count": 78,
   "metadata": {},
   "outputs": [],
   "source": [
    "all_csv = []\n",
    "\n",
    "for file in all_files:\n",
    "    df = pd.read_csv(file, index_col=None)\n",
    "    all_csv.append(df)"
   ]
  },
  {
   "cell_type": "code",
   "execution_count": 79,
   "metadata": {},
   "outputs": [],
   "source": [
    "merged_files = pd.concat(all_csv)"
   ]
  },
  {
   "cell_type": "code",
   "execution_count": 80,
   "metadata": {},
   "outputs": [
    {
     "data": {
      "text/plain": [
       "2582"
      ]
     },
     "execution_count": 80,
     "metadata": {},
     "output_type": "execute_result"
    }
   ],
   "source": [
    "len(merged_files)"
   ]
  },
  {
   "cell_type": "code",
   "execution_count": 81,
   "metadata": {},
   "outputs": [],
   "source": [
    "all_files = merged_files.drop_duplicates()"
   ]
  },
  {
   "cell_type": "code",
   "execution_count": 82,
   "metadata": {},
   "outputs": [
    {
     "data": {
      "text/plain": [
       "2337"
      ]
     },
     "execution_count": 82,
     "metadata": {},
     "output_type": "execute_result"
    }
   ],
   "source": [
    "len(all_files)"
   ]
  },
  {
   "cell_type": "code",
   "execution_count": 60,
   "metadata": {},
   "outputs": [
    {
     "data": {
      "text/plain": [
       "Unnamed: 0          2337\n",
       "acousticness        2337\n",
       "danceability        2337\n",
       "duration_ms         2337\n",
       "energy              2337\n",
       "id                  2337\n",
       "instrumentalness    2337\n",
       "key                 2337\n",
       "liveness            2337\n",
       "loudness            2337\n",
       "mode                2337\n",
       "speechiness         2337\n",
       "tempo               2337\n",
       "track_href          2198\n",
       "valence             2337\n",
       "dtype: int64"
      ]
     },
     "execution_count": 60,
     "metadata": {},
     "output_type": "execute_result"
    }
   ],
   "source": [
    "all_files.count()"
   ]
  },
  {
   "cell_type": "code",
   "execution_count": 69,
   "metadata": {},
   "outputs": [],
   "source": [
    "df = all_files.rename(columns={\"Unnamed: 0\": \"track\"})"
   ]
  },
  {
   "cell_type": "code",
   "execution_count": 70,
   "metadata": {},
   "outputs": [
    {
     "data": {
      "text/html": [
       "<div>\n",
       "<style scoped>\n",
       "    .dataframe tbody tr th:only-of-type {\n",
       "        vertical-align: middle;\n",
       "    }\n",
       "\n",
       "    .dataframe tbody tr th {\n",
       "        vertical-align: top;\n",
       "    }\n",
       "\n",
       "    .dataframe thead th {\n",
       "        text-align: right;\n",
       "    }\n",
       "</style>\n",
       "<table border=\"1\" class=\"dataframe\">\n",
       "  <thead>\n",
       "    <tr style=\"text-align: right;\">\n",
       "      <th></th>\n",
       "      <th>track</th>\n",
       "      <th>acousticness</th>\n",
       "      <th>danceability</th>\n",
       "      <th>duration_ms</th>\n",
       "      <th>energy</th>\n",
       "      <th>id</th>\n",
       "      <th>instrumentalness</th>\n",
       "      <th>key</th>\n",
       "      <th>liveness</th>\n",
       "      <th>loudness</th>\n",
       "      <th>mode</th>\n",
       "      <th>speechiness</th>\n",
       "      <th>tempo</th>\n",
       "      <th>track_href</th>\n",
       "      <th>valence</th>\n",
       "    </tr>\n",
       "  </thead>\n",
       "  <tbody>\n",
       "    <tr>\n",
       "      <th>0</th>\n",
       "      <td>I Want It That Way</td>\n",
       "      <td>0.2160</td>\n",
       "      <td>0.689</td>\n",
       "      <td>213600</td>\n",
       "      <td>0.702</td>\n",
       "      <td>6e40mgJiCid5HRAGrbpGA6</td>\n",
       "      <td>0.00000</td>\n",
       "      <td>6</td>\n",
       "      <td>0.1590</td>\n",
       "      <td>-5.642</td>\n",
       "      <td>0</td>\n",
       "      <td>0.0261</td>\n",
       "      <td>99.031</td>\n",
       "      <td>https://api.spotify.com/v1/tracks/6e40mgJiCid5...</td>\n",
       "      <td>0.484</td>\n",
       "    </tr>\n",
       "    <tr>\n",
       "      <th>1</th>\n",
       "      <td>Bye Bye Bye</td>\n",
       "      <td>0.0408</td>\n",
       "      <td>0.614</td>\n",
       "      <td>200560</td>\n",
       "      <td>0.928</td>\n",
       "      <td>4r8lRYnoOGdEi6YyI5OC1o</td>\n",
       "      <td>0.00104</td>\n",
       "      <td>8</td>\n",
       "      <td>0.0845</td>\n",
       "      <td>-4.806</td>\n",
       "      <td>0</td>\n",
       "      <td>0.0516</td>\n",
       "      <td>172.656</td>\n",
       "      <td>https://api.spotify.com/v1/tracks/4r8lRYnoOGdE...</td>\n",
       "      <td>0.879</td>\n",
       "    </tr>\n",
       "    <tr>\n",
       "      <th>2</th>\n",
       "      <td>Wannabe</td>\n",
       "      <td>0.1010</td>\n",
       "      <td>0.768</td>\n",
       "      <td>173027</td>\n",
       "      <td>0.864</td>\n",
       "      <td>1Je1IMUlBXcx1Fz0WE7oPT</td>\n",
       "      <td>0.00000</td>\n",
       "      <td>11</td>\n",
       "      <td>0.1620</td>\n",
       "      <td>-6.145</td>\n",
       "      <td>1</td>\n",
       "      <td>0.0324</td>\n",
       "      <td>110.008</td>\n",
       "      <td>https://api.spotify.com/v1/tracks/1Je1IMUlBXcx...</td>\n",
       "      <td>0.891</td>\n",
       "    </tr>\n",
       "    <tr>\n",
       "      <th>3</th>\n",
       "      <td>I'll Be Missing You (feat. 112)</td>\n",
       "      <td>0.0522</td>\n",
       "      <td>0.862</td>\n",
       "      <td>301520</td>\n",
       "      <td>0.479</td>\n",
       "      <td>3QHONiXGMGU3z68mQInncF</td>\n",
       "      <td>0.00126</td>\n",
       "      <td>7</td>\n",
       "      <td>0.5890</td>\n",
       "      <td>-9.199</td>\n",
       "      <td>1</td>\n",
       "      <td>0.0646</td>\n",
       "      <td>109.878</td>\n",
       "      <td>https://api.spotify.com/v1/tracks/3QHONiXGMGU3...</td>\n",
       "      <td>0.925</td>\n",
       "    </tr>\n",
       "    <tr>\n",
       "      <th>4</th>\n",
       "      <td>Everybody (Backstreet's Back) - Radio Edit</td>\n",
       "      <td>0.0352</td>\n",
       "      <td>0.731</td>\n",
       "      <td>225360</td>\n",
       "      <td>0.853</td>\n",
       "      <td>1di1BEgJYzPvXUuinsYJGP</td>\n",
       "      <td>0.00000</td>\n",
       "      <td>10</td>\n",
       "      <td>0.2680</td>\n",
       "      <td>-4.219</td>\n",
       "      <td>0</td>\n",
       "      <td>0.0363</td>\n",
       "      <td>108.016</td>\n",
       "      <td>https://api.spotify.com/v1/tracks/1di1BEgJYzPv...</td>\n",
       "      <td>0.605</td>\n",
       "    </tr>\n",
       "  </tbody>\n",
       "</table>\n",
       "</div>"
      ],
      "text/plain": [
       "                                        track  acousticness  danceability  \\\n",
       "0                          I Want It That Way        0.2160         0.689   \n",
       "1                                 Bye Bye Bye        0.0408         0.614   \n",
       "2                                     Wannabe        0.1010         0.768   \n",
       "3             I'll Be Missing You (feat. 112)        0.0522         0.862   \n",
       "4  Everybody (Backstreet's Back) - Radio Edit        0.0352         0.731   \n",
       "\n",
       "   duration_ms  energy                      id  instrumentalness  key  \\\n",
       "0       213600   0.702  6e40mgJiCid5HRAGrbpGA6           0.00000    6   \n",
       "1       200560   0.928  4r8lRYnoOGdEi6YyI5OC1o           0.00104    8   \n",
       "2       173027   0.864  1Je1IMUlBXcx1Fz0WE7oPT           0.00000   11   \n",
       "3       301520   0.479  3QHONiXGMGU3z68mQInncF           0.00126    7   \n",
       "4       225360   0.853  1di1BEgJYzPvXUuinsYJGP           0.00000   10   \n",
       "\n",
       "   liveness  loudness  mode  speechiness    tempo  \\\n",
       "0    0.1590    -5.642     0       0.0261   99.031   \n",
       "1    0.0845    -4.806     0       0.0516  172.656   \n",
       "2    0.1620    -6.145     1       0.0324  110.008   \n",
       "3    0.5890    -9.199     1       0.0646  109.878   \n",
       "4    0.2680    -4.219     0       0.0363  108.016   \n",
       "\n",
       "                                          track_href  valence  \n",
       "0  https://api.spotify.com/v1/tracks/6e40mgJiCid5...    0.484  \n",
       "1  https://api.spotify.com/v1/tracks/4r8lRYnoOGdE...    0.879  \n",
       "2  https://api.spotify.com/v1/tracks/1Je1IMUlBXcx...    0.891  \n",
       "3  https://api.spotify.com/v1/tracks/3QHONiXGMGU3...    0.925  \n",
       "4  https://api.spotify.com/v1/tracks/1di1BEgJYzPv...    0.605  "
      ]
     },
     "execution_count": 70,
     "metadata": {},
     "output_type": "execute_result"
    }
   ],
   "source": [
    "df.head()"
   ]
  },
  {
   "cell_type": "code",
   "execution_count": 73,
   "metadata": {},
   "outputs": [
    {
     "data": {
      "text/plain": [
       "0     282\n",
       "1     261\n",
       "7     251\n",
       "9     219\n",
       "2     212\n",
       "11    206\n",
       "5     191\n",
       "4     180\n",
       "6     166\n",
       "10    160\n",
       "8     153\n",
       "3      56\n",
       "Name: key, dtype: int64"
      ]
     },
     "execution_count": 73,
     "metadata": {},
     "output_type": "execute_result"
    }
   ],
   "source": [
    "df['key'].value_counts()"
   ]
  },
  {
   "cell_type": "code",
   "execution_count": null,
   "metadata": {},
   "outputs": [],
   "source": []
  }
 ],
 "metadata": {
  "kernelspec": {
   "display_name": "Python 3",
   "language": "python",
   "name": "python3"
  },
  "language_info": {
   "codemirror_mode": {
    "name": "ipython",
    "version": 3
   },
   "file_extension": ".py",
   "mimetype": "text/x-python",
   "name": "python",
   "nbconvert_exporter": "python",
   "pygments_lexer": "ipython3",
   "version": "3.6.4"
  }
 },
 "nbformat": 4,
 "nbformat_minor": 2
}
